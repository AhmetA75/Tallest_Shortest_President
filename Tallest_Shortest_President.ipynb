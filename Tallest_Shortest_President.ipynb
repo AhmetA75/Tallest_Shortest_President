{
  "nbformat": 4,
  "nbformat_minor": 0,
  "metadata": {
    "colab": {
      "provenance": [],
      "collapsed_sections": [],
      "authorship_tag": "ABX9TyNClL8qc/1LibNiWBWKyXFw",
      "include_colab_link": true
    },
    "kernelspec": {
      "name": "python3",
      "display_name": "Python 3"
    },
    "language_info": {
      "name": "python"
    }
  },
  "cells": [
    {
      "cell_type": "markdown",
      "metadata": {
        "id": "view-in-github",
        "colab_type": "text"
      },
      "source": [
        "<a href=\"https://colab.research.google.com/github/AhmetA75/Tallest_Shortest_President/blob/main/Tallest_Shortest_President.ipynb\" target=\"_parent\"><img src=\"https://colab.research.google.com/assets/colab-badge.svg\" alt=\"Open In Colab\"/></a>"
      ]
    },
    {
      "cell_type": "code",
      "execution_count": 1,
      "metadata": {
        "colab": {
          "base_uri": "https://localhost:8080/"
        },
        "id": "eH_PmJVTGNoT",
        "outputId": "823f97fd-964e-41fe-eacd-471d9e329d46"
      },
      "outputs": [
        {
          "output_type": "stream",
          "name": "stdout",
          "text": [
            "order                     44\n",
            "name          Zachary Taylor\n",
            "height(cm)               193\n",
            "dtype: object\n",
            "order                       1\n",
            "name          Abraham Lincoln\n",
            "height(cm)                163\n",
            "dtype: object\n"
          ]
        }
      ],
      "source": [
        "import pandas as pd\n",
        "import numpy as np\n",
        "data = pd.read_csv('president_heights.csv')\n",
        "heights = np.array(data['name'])\n",
        "en_uzun_boylu= np.argmax(heights) \n",
        "#print(int(en_uzun_boylu))\n",
        "max1 = data['height(cm)'].max()\n",
        "#print(str(max1))\n",
        "#print(en_uzun_boylu)\n",
        "print(data.max())\n",
        "print(data.min())"
      ]
    }
  ]
}